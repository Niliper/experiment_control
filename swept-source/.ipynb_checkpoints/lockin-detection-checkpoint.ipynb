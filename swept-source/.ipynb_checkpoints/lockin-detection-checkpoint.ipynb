{
 "cells": [
  {
   "cell_type": "markdown",
   "metadata": {},
   "source": [
    "# Swept source control\n",
    "## Required instruments\n",
    "1. RedPitaya \n",
    "2. DiCon FiberOptic Switch connected by serial cable\n",
    "\n",
    "## Setting up hardware\n",
    "### RedPitaya\n",
    "\n",
    "https://redpitaya.readthedocs.io/en/latest/appsFeatures/remoteControl/remoteControl.html#python\n",
    "\n"
   ]
  },
  {
   "cell_type": "code",
   "execution_count": 2,
   "metadata": {},
   "outputs": [
    {
     "name": "stdout",
     "output_type": "stream",
     "text": [
      "Blinking LED[0]\n"
     ]
    }
   ],
   "source": [
    "# Blink test\n",
    "import sys\n",
    "import time\n",
    "import redpitaya_scpi as scpi\n",
    "\n",
    "rp_s = scpi.scpi('10.138.7.215')\n",
    "\n",
    "led = 0\n",
    "\n",
    "print (\"Blinking LED[\"+str(led)+\"]\")\n",
    "\n",
    "period = 1 # seconds\n",
    "\n",
    "for i in range(10):\n",
    "    time.sleep(period/2.0)\n",
    "    rp_s.tx_txt('DIG:PIN LED' + str(led) + ',' + str(1))\n",
    "    time.sleep(period/2.0)\n",
    "    rp_s.tx_txt('DIG:PIN LED' + str(led) + ',' + str(0))"
   ]
  },
  {
   "cell_type": "code",
   "execution_count": 24,
   "metadata": {},
   "outputs": [
    {
     "name": "stdout",
     "output_type": "stream",
     "text": [
      "rp-f08358.local has IP 10.138.7.215 is connected\n",
      "Setting signal generation parameters for rp-f08358.local\n",
      "Setting signal acquisition parameters for rp-f08358.local\n",
      "turn on output and start acquisition\n",
      "turn off output and finish acquisition\n"
     ]
    },
    {
     "ename": "TypeError",
     "evalue": "'module' object is not callable",
     "output_type": "error",
     "traceback": [
      "\u001b[1;31m---------------------------------------------------------------------------\u001b[0m",
      "\u001b[1;31mTypeError\u001b[0m                                 Traceback (most recent call last)",
      "\u001b[1;32m<ipython-input-24-a0a071788c5f>\u001b[0m in \u001b[0;36m<module>\u001b[1;34m\u001b[0m\n\u001b[0;32m     85\u001b[0m \u001b[0mdemod_cos\u001b[0m \u001b[1;33m=\u001b[0m \u001b[0mnp\u001b[0m\u001b[1;33m.\u001b[0m\u001b[0mcos\u001b[0m\u001b[1;33m(\u001b[0m\u001b[1;36m2\u001b[0m\u001b[1;33m*\u001b[0m\u001b[0mnp\u001b[0m\u001b[1;33m.\u001b[0m\u001b[0mpi\u001b[0m\u001b[1;33m*\u001b[0m\u001b[0msampling_freq\u001b[0m\u001b[1;33m*\u001b[0m\u001b[0mtime\u001b[0m\u001b[1;33m)\u001b[0m\u001b[1;33m*\u001b[0m\u001b[0mnp\u001b[0m\u001b[1;33m.\u001b[0m\u001b[0marray\u001b[0m\u001b[1;33m(\u001b[0m\u001b[0mbuff\u001b[0m\u001b[1;33m)\u001b[0m\u001b[1;33m\u001b[0m\u001b[1;33m\u001b[0m\u001b[0m\n\u001b[0;32m     86\u001b[0m \u001b[1;33m\u001b[0m\u001b[0m\n\u001b[1;32m---> 87\u001b[1;33m \u001b[0mfft_demod_sin\u001b[0m \u001b[1;33m=\u001b[0m \u001b[0mnp\u001b[0m\u001b[1;33m.\u001b[0m\u001b[0mfft\u001b[0m\u001b[1;33m(\u001b[0m\u001b[0mdemod_sin\u001b[0m\u001b[1;33m)\u001b[0m\u001b[1;33m\u001b[0m\u001b[1;33m\u001b[0m\u001b[0m\n\u001b[0m\u001b[0;32m     88\u001b[0m \u001b[0mA\u001b[0m \u001b[1;33m=\u001b[0m \u001b[0mnp\u001b[0m\u001b[1;33m.\u001b[0m\u001b[0mmean\u001b[0m\u001b[1;33m(\u001b[0m\u001b[0mdemod_sin\u001b[0m\u001b[1;33m)\u001b[0m\u001b[1;33m\u001b[0m\u001b[1;33m\u001b[0m\u001b[0m\n\u001b[0;32m     89\u001b[0m \u001b[0mB\u001b[0m \u001b[1;33m=\u001b[0m \u001b[0mnp\u001b[0m\u001b[1;33m.\u001b[0m\u001b[0mmean\u001b[0m\u001b[1;33m(\u001b[0m\u001b[0mdemod_cos\u001b[0m\u001b[1;33m)\u001b[0m\u001b[1;33m\u001b[0m\u001b[1;33m\u001b[0m\u001b[0m\n",
      "\u001b[1;31mTypeError\u001b[0m: 'module' object is not callable"
     ]
    }
   ],
   "source": [
    "import sys\n",
    "import redpitaya_scpi as scpi\n",
    "import numpy as np\n",
    "import matplotlib.pyplot as plt\n",
    "from time import sleep\n",
    "import socket\n",
    "\n",
    "fiber_channel = {\n",
    "    'rp-f08358.local': 0,\n",
    "}\n",
    "\n",
    "ip = {}\n",
    "rp_s = {}\n",
    "\n",
    "for (hostname,channel) in fiber_channel.items():\n",
    "    # Get IP and connect to scpi server\n",
    "    try:\n",
    "        ip.update({hostname : socket.gethostbyname(hostname)})        \n",
    "        rp_s.update({hostname : scpi.scpi(ip[hostname])})\n",
    "    except:\n",
    "        print('{} is unavailable: {}'.format(hostname, sys.exc_info()))\n",
    "    else:\n",
    "        print('{} has IP {} is connected'.format(hostname, ip[hostname]))\n",
    "\n",
    "# Measurement parameters\n",
    "integration_time = 0.5 # sec\n",
    "if integration_time > 8.5 :\n",
    "    print('integration time needs to be smaller than 8.5 sec')\n",
    "    exit()\n",
    "# Modulation parameters.\n",
    "wave_form = 'sine'\n",
    "freq = 500\n",
    "ampl = 0.5\n",
    "offset = 0.5\n",
    "\n",
    "sampling_rate = 125e6 #sample/s\n",
    "total_samples = 16384\n",
    "# determine decimation rate\n",
    "decimation_options = np.array([1,8,64,1024,8192,65536])\n",
    "measurement_length = total_samples / sampling_rate * decimation_options\n",
    "decimation = decimation_options[np.argmax(measurement_length >=integration_time)]\n",
    "sampling_freq = sampling_rate/decimation\n",
    "\n",
    "\n",
    "\n",
    "# Initializing singal generation and acquisition parameters\n",
    "for (hostname,rp) in rp_s.items():           \n",
    "    print('Setting signal generation parameters for {}'.format(hostname))\n",
    "    rp.tx_txt('GEN:RST')\n",
    "    rp.tx_txt('SOUR1:FUNC' + str(wave_form).upper())\n",
    "    rp.tx_txt('SOUR1:FREQ:FIX' + str(freq))\n",
    "    rp.tx_txt('SOUR1:VOLT ' + str(ampl))\n",
    "    rp.tx_txt('SOUR1:VOLT:OFFS ' + str(offset))\n",
    "    \n",
    "    print('Setting signal acquisition parameters for {}'.format(hostname))\n",
    "    rp.tx_txt('ACQ:RST')\n",
    "    rp.tx_txt('ACQ:AVG OFF') # turn off averaging        \n",
    "    rp.tx_txt('ACQ:SOUR1:COUP DC') # enables DC coupling on channel 1\n",
    "    rp.tx_txt('ACQ:SOUR1:GAIN LV') # set high voltage gain settings\n",
    "  \n",
    "   \n",
    "    # Acquire signal\n",
    "    print('turn on output and start acquisition')\n",
    "    rp.tx_txt('OUTPUT1:STATE ON')\n",
    "    rp.tx_txt('ACQ:START')\n",
    "    rp.tx_txt('ACQ:TRIG NOW') # set to trigger immediately\n",
    "    sleep(integration_time)\n",
    "    \n",
    "    print('turn off output and finish acquisition')\n",
    "    rp.tx_txt('ACQ:STOP')\n",
    "    rp.tx_txt('OUTPUT1:STATE OFF')\n",
    "    \n",
    "\n",
    "    rp.tx_txt('ACQ:SOUR1:DATA?')\n",
    "    buff_string = rp.rx_txt()\n",
    "#     print(buff_string)\n",
    "#     buff_string = buff_string.strip('ERR!{}\\n\\r').replace(\"  \", \"\").split(',')\n",
    "    buff_string = buff_string.strip('ERR!{}\\n\\r').split(',')\n",
    "#     print(buff_string)\n",
    "    buff = list(map(float, buff_string))\n",
    "    \n",
    "time = np.arange(0, len(buff), 1)/sampling_freq\n",
    "\n",
    "demod_sin = np.sin(2*np.pi*sampling_freq*time)*np.array(buff)\n",
    "demod_cos = np.cos(2*np.pi*sampling_freq*time)*np.array(buff)\n",
    "\n",
    "fft_demod_sin = np.fft(demod_sin)\n",
    "# A = np.mean(demod_sin)\n",
    "# B = np.mean(demod_cos)\n",
    "\n",
    "plt.figure()\n",
    "plt.plot(time,buff)\n",
    "plt.ylabel('Input [V]')\n",
    "plt.xlabel('Time [sec]')\n",
    "\n",
    "plt.figure()\n",
    "plt.plot(time,buff)\n",
    "plt.xlim([0, 10/freq])\n",
    "plt.show()\n",
    "\n",
    "\n",
    "# Close connections\n",
    "for (hostname,channel) in rp_s.items():           \n",
    "    try:        \n",
    "        rp_s[hostname].close()\n",
    "    except:\n",
    "        print('Could not close {}: {}'.format(hostname, sys.exc_info()))\n",
    "    else:\n",
    "        print('{} with IP {} successfully disconnected'.format(hostname, ip[hostname]))"
   ]
  },
  {
   "cell_type": "code",
   "execution_count": null,
   "metadata": {},
   "outputs": [],
   "source": []
  },
  {
   "cell_type": "code",
   "execution_count": null,
   "metadata": {},
   "outputs": [],
   "source": []
  }
 ],
 "metadata": {
  "kernelspec": {
   "display_name": "Python 3",
   "language": "python",
   "name": "python3"
  },
  "language_info": {
   "codemirror_mode": {
    "name": "ipython",
    "version": 3
   },
   "file_extension": ".py",
   "mimetype": "text/x-python",
   "name": "python",
   "nbconvert_exporter": "python",
   "pygments_lexer": "ipython3",
   "version": "3.6.10"
  }
 },
 "nbformat": 4,
 "nbformat_minor": 4
}
